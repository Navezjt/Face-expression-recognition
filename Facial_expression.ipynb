{
 "cells": [
  {
   "cell_type": "code",
   "execution_count": 0,
   "metadata": {
    "colab": {},
    "colab_type": "code",
    "id": "ixZXnmJa_NGZ"
   },
   "outputs": [],
   "source": [
    "# # Uploading file on google colab from drive\n",
    "\n",
    "# !pip install -U -q PyDrive\n",
    "# from pydrive.auth import GoogleAuth\n",
    "# from pydrive.drive import GoogleDrive\n",
    "# from google.colab import auth\n",
    "# from oauth2client.client import GoogleCredentials\n",
    "\n",
    "# auth.authenticate_user()\n",
    "# gauth = GoogleAuth()\n",
    "# gauth.credentials = GoogleCredentials.get_application_default()\n",
    "# drive = GoogleDrive(gauth)\n",
    "\n",
    "# dff = drive.CreateFile({'id': '1xOmwNIpffdvEOrV3XYYWSN4janwjhz2J'})\n",
    "# dff.GetContentFile('fer2013.csv')"
   ]
  },
  {
   "cell_type": "code",
   "execution_count": 0,
   "metadata": {
    "colab": {},
    "colab_type": "code",
    "id": "lskPyyflG8dG"
   },
   "outputs": [],
   "source": [
    "# Importing required libraries\n",
    "\n",
    "import pandas as pd\n",
    "import numpy as np\n",
    "import matplotlib.pyplot as plt"
   ]
  },
  {
   "cell_type": "code",
   "execution_count": 3,
   "metadata": {
    "colab": {
     "base_uri": "https://localhost:8080/",
     "height": 34
    },
    "colab_type": "code",
    "id": "-MbdRp9Dlagj",
    "outputId": "e1ebead9-25f5-42f2-8ba6-ef9cf5fe216f"
   },
   "outputs": [
    {
     "name": "stderr",
     "output_type": "stream",
     "text": [
      "Using TensorFlow backend.\n"
     ]
    }
   ],
   "source": [
    "from keras.layers import Dense , Activation\n",
    "from keras.layers import Dropout\n",
    "from keras.layers import Flatten\n",
    "from keras.optimizers import Adam\n",
    "from keras.layers import Conv2D , BatchNormalization\n",
    "from keras.layers import MaxPooling2D\n",
    "from keras.models import Sequential\n",
    "from keras import backend as K\n",
    "K.set_image_dim_ordering('th')"
   ]
  },
  {
   "cell_type": "code",
   "execution_count": 4,
   "metadata": {
    "colab": {
     "base_uri": "https://localhost:8080/",
     "height": 204
    },
    "colab_type": "code",
    "id": "tDnIeapyGdt1",
    "outputId": "c6cb4540-55c8-4399-8304-e6ee7055ab03"
   },
   "outputs": [
    {
     "data": {
      "text/html": [
       "<div>\n",
       "<style scoped>\n",
       "    .dataframe tbody tr th:only-of-type {\n",
       "        vertical-align: middle;\n",
       "    }\n",
       "\n",
       "    .dataframe tbody tr th {\n",
       "        vertical-align: top;\n",
       "    }\n",
       "\n",
       "    .dataframe thead th {\n",
       "        text-align: right;\n",
       "    }\n",
       "</style>\n",
       "<table border=\"1\" class=\"dataframe\">\n",
       "  <thead>\n",
       "    <tr style=\"text-align: right;\">\n",
       "      <th></th>\n",
       "      <th>emotion</th>\n",
       "      <th>pixels</th>\n",
       "      <th>Usage</th>\n",
       "    </tr>\n",
       "  </thead>\n",
       "  <tbody>\n",
       "    <tr>\n",
       "      <th>0</th>\n",
       "      <td>0</td>\n",
       "      <td>70 80 82 72 58 58 60 63 54 58 60 48 89 115 121...</td>\n",
       "      <td>Training</td>\n",
       "    </tr>\n",
       "    <tr>\n",
       "      <th>1</th>\n",
       "      <td>0</td>\n",
       "      <td>151 150 147 155 148 133 111 140 170 174 182 15...</td>\n",
       "      <td>Training</td>\n",
       "    </tr>\n",
       "    <tr>\n",
       "      <th>2</th>\n",
       "      <td>2</td>\n",
       "      <td>231 212 156 164 174 138 161 173 182 200 106 38...</td>\n",
       "      <td>Training</td>\n",
       "    </tr>\n",
       "    <tr>\n",
       "      <th>3</th>\n",
       "      <td>4</td>\n",
       "      <td>24 32 36 30 32 23 19 20 30 41 21 22 32 34 21 1...</td>\n",
       "      <td>Training</td>\n",
       "    </tr>\n",
       "    <tr>\n",
       "      <th>4</th>\n",
       "      <td>6</td>\n",
       "      <td>4 0 0 0 0 0 0 0 0 0 0 0 3 15 23 28 48 50 58 84...</td>\n",
       "      <td>Training</td>\n",
       "    </tr>\n",
       "  </tbody>\n",
       "</table>\n",
       "</div>"
      ],
      "text/plain": [
       "   emotion                                             pixels     Usage\n",
       "0        0  70 80 82 72 58 58 60 63 54 58 60 48 89 115 121...  Training\n",
       "1        0  151 150 147 155 148 133 111 140 170 174 182 15...  Training\n",
       "2        2  231 212 156 164 174 138 161 173 182 200 106 38...  Training\n",
       "3        4  24 32 36 30 32 23 19 20 30 41 21 22 32 34 21 1...  Training\n",
       "4        6  4 0 0 0 0 0 0 0 0 0 0 0 3 15 23 28 48 50 58 84...  Training"
      ]
     },
     "execution_count": 4,
     "metadata": {
      "tags": []
     },
     "output_type": "execute_result"
    }
   ],
   "source": [
    "# Adding data to dataframe\n",
    "\n",
    "df = pd.read_csv('fer2013.csv',na_filter = False)\n",
    "df.head()"
   ]
  },
  {
   "cell_type": "code",
   "execution_count": 5,
   "metadata": {
    "colab": {
     "base_uri": "https://localhost:8080/",
     "height": 365
    },
    "colab_type": "code",
    "id": "j6uJvu9gG3_l",
    "outputId": "5869e2e3-3be0-42a2-ff95-b20e4dd46647"
   },
   "outputs": [
    {
     "data": {
      "text/plain": [
       "<matplotlib.image.AxesImage at 0x7f8e10495278>"
      ]
     },
     "execution_count": 5,
     "metadata": {
      "tags": []
     },
     "output_type": "execute_result"
    },
    {
     "data": {
      "image/png": "[encoded data removed]",
      "text/plain": [
       "<matplotlib.figure.Figure at 0x7f8e1057f518>"
      ]
     },
     "metadata": {
      "tags": []
     },
     "output_type": "display_data"
    }
   ],
   "source": [
    "# Printing 1st image\n",
    "\n",
    "img = df.pixels\n",
    "face_list = img[0].split()\n",
    "face = np.reshape(face_list,(48,48))\n",
    "face = face.astype(int)\n",
    "plt.imshow(face,cmap = 'gray')"
   ]
  },
  {
   "cell_type": "code",
   "execution_count": 0,
   "metadata": {
    "colab": {},
    "colab_type": "code",
    "id": "RH_JGO_tPUfG"
   },
   "outputs": [],
   "source": [
    "# Splitting data into features and labels\n",
    "\n",
    "def getData(filname):\n",
    "    Y = []\n",
    "    X = []\n",
    "    first = True\n",
    "    for line in open(filname):\n",
    "        # dropping first row(heading)\n",
    "        if first:\n",
    "            first = False\n",
    "        else:\n",
    "            row = line.split(',')\n",
    "            Y.append(int(row[0])) # Appending labels \n",
    "            X.append([int(p) for p in row[1].split()]) # Appending image pixels data\n",
    "\n",
    "    X, Y = np.array(X) / 255.0, np.array(Y)\n",
    "    return X, Y"
   ]
  },
  {
   "cell_type": "code",
   "execution_count": 7,
   "metadata": {
    "colab": {
     "base_uri": "https://localhost:8080/",
     "height": 34
    },
    "colab_type": "code",
    "id": "Z5GPjl-jXJPC",
    "outputId": "eab6ecc2-edc2-447e-92b4-f4a511d1b27e"
   },
   "outputs": [
    {
     "name": "stdout",
     "output_type": "stream",
     "text": [
      "7\n"
     ]
    }
   ],
   "source": [
    "X, Y = getData('fer2013.csv') #Calling getData function created above\n",
    "num_class = len(set(Y))\n",
    "print(num_class) # Number of unique labels"
   ]
  },
  {
   "cell_type": "code",
   "execution_count": 8,
   "metadata": {
    "colab": {
     "base_uri": "https://localhost:8080/",
     "height": 51
    },
    "colab_type": "code",
    "id": "9TCBj56WRJLH",
    "outputId": "53289900-e3db-4d62-efc3-b5b140039073"
   },
   "outputs": [
    {
     "name": "stdout",
     "output_type": "stream",
     "text": [
      "(35887, 2304)\n",
      "(35887,)\n"
     ]
    }
   ],
   "source": [
    "print(X.shape)\n",
    "print(Y.shape)"
   ]
  },
  {
   "cell_type": "code",
   "execution_count": 0,
   "metadata": {
    "colab": {},
    "colab_type": "code",
    "id": "L5XDIZj8RuHK"
   },
   "outputs": [],
   "source": [
    "N, D = X.shape\n",
    "X = X.reshape(N, 1, 48, 48)"
   ]
  },
  {
   "cell_type": "code",
   "execution_count": 0,
   "metadata": {
    "colab": {},
    "colab_type": "code",
    "id": "RPUu_wOlR2os"
   },
   "outputs": [],
   "source": [
    "# Splitting data for training and testing\n",
    "\n",
    "from sklearn.model_selection import train_test_split\n",
    "\n",
    "X_train, X_test, y_train, y_test = train_test_split(X, Y, test_size=0.05, random_state=0)\n",
    "y_train = (np.arange(num_class) == y_train[:, None]).astype(np.float32)\n",
    "y_test = (np.arange(num_class) == y_test[:, None]).astype(np.float32)"
   ]
  },
  {
   "cell_type": "code",
   "execution_count": 0,
   "metadata": {
    "colab": {},
    "colab_type": "code",
    "id": "-Lr-oUzclceh"
   },
   "outputs": [],
   "source": [
    "from keras.callbacks import ReduceLROnPlateau\n",
    "lr_reduce = ReduceLROnPlateau(monitor='val_acc', factor=0.1, min_delta=0.0001, patience=1, verbose=1) #Reduces learning rate when accuracy stops increasing"
   ]
  },
  {
   "cell_type": "code",
   "execution_count": 0,
   "metadata": {
    "colab": {},
    "colab_type": "code",
    "id": "oq4K9F72nmOI"
   },
   "outputs": [],
   "source": [
    "# swish activation function\n",
    "\n",
    "def swish_activation(x):\n",
    "    return (K.sigmoid(x) * x)"
   ]
  },
  {
   "cell_type": "code",
   "execution_count": 14,
   "metadata": {
    "colab": {
     "base_uri": "https://localhost:8080/",
     "height": 697
    },
    "colab_type": "code",
    "id": "ff-zPjTZj37V",
    "outputId": "64952ff9-cf27-4fb3-8661-4c050b0cded1"
   },
   "outputs": [
    {
     "name": "stdout",
     "output_type": "stream",
     "text": [
      "_________________________________________________________________\n",
      "Layer (type)                 Output Shape              Param #   \n",
      "=================================================================\n",
      "conv2d_9 (Conv2D)            (None, 32, 48, 48)        320       \n",
      "_________________________________________________________________\n",
      "conv2d_10 (Conv2D)           (None, 32, 48, 48)        9248      \n",
      "_________________________________________________________________\n",
      "max_pooling2d_5 (MaxPooling2 (None, 32, 24, 24)        0         \n",
      "_________________________________________________________________\n",
      "conv2d_11 (Conv2D)           (None, 64, 24, 24)        18496     \n",
      "_________________________________________________________________\n",
      "conv2d_12 (Conv2D)           (None, 64, 24, 24)        36928     \n",
      "_________________________________________________________________\n",
      "max_pooling2d_6 (MaxPooling2 (None, 64, 12, 12)        0         \n",
      "_________________________________________________________________\n",
      "conv2d_13 (Conv2D)           (None, 96, 12, 12)        55392     \n",
      "_________________________________________________________________\n",
      "conv2d_14 (Conv2D)           (None, 96, 10, 10)        83040     \n",
      "_________________________________________________________________\n",
      "max_pooling2d_7 (MaxPooling2 (None, 96, 5, 5)          0         \n",
      "_________________________________________________________________\n",
      "conv2d_15 (Conv2D)           (None, 128, 5, 5)         110720    \n",
      "_________________________________________________________________\n",
      "conv2d_16 (Conv2D)           (None, 128, 3, 3)         147584    \n",
      "_________________________________________________________________\n",
      "max_pooling2d_8 (MaxPooling2 (None, 128, 1, 1)         0         \n",
      "_________________________________________________________________\n",
      "flatten_2 (Flatten)          (None, 128)               0         \n",
      "_________________________________________________________________\n",
      "dense_3 (Dense)              (None, 64)                8256      \n",
      "_________________________________________________________________\n",
      "dropout_2 (Dropout)          (None, 64)                0         \n",
      "_________________________________________________________________\n",
      "dense_4 (Dense)              (None, 7)                 455       \n",
      "=================================================================\n",
      "Total params: 470,439\n",
      "Trainable params: 470,439\n",
      "Non-trainable params: 0\n",
      "_________________________________________________________________\n",
      "None\n"
     ]
    }
   ],
   "source": [
    "def my_model():\n",
    "\n",
    "  model = Sequential()\n",
    "\n",
    "  model.add(Conv2D(32, (3, 3), activation='relu', padding=\"same\", input_shape=(1,48,48)))\n",
    "  model.add(Conv2D(32, (3, 3), padding=\"same\", activation='relu'))\n",
    "  model.add(MaxPooling2D(pool_size=(2, 2)))\n",
    "  model.add(Conv2D(64, (3, 3), activation='relu', padding=\"same\"))\n",
    "  model.add(Conv2D(64, (3, 3), padding=\"same\", activation='relu'))\n",
    "  model.add(MaxPooling2D(pool_size=(2, 2)))\n",
    "  model.add(Conv2D(96, (3, 3), dilation_rate=(2, 2), activation='relu', padding=\"same\"))\n",
    "  model.add(Conv2D(96, (3, 3), padding=\"valid\", activation='relu'))\n",
    "  model.add(MaxPooling2D(pool_size=(2, 2)))\n",
    "  model.add(Conv2D(128, (3, 3), dilation_rate=(2, 2), activation='relu', padding=\"same\"))\n",
    "  model.add(Conv2D(128, (3, 3), padding=\"valid\", activation='relu'))\n",
    "  model.add(MaxPooling2D(pool_size=(2, 2)))\n",
    "  model.add(Flatten())\n",
    "  model.add(Dense(64, activation=swish_activation))\n",
    "  model.add(Dropout(0.4))\n",
    "  model.add(Dense(7 , activation='sigmoid'))\n",
    "\n",
    "  model.compile(loss='binary_crossentropy',\n",
    "                optimizer='adam' ,\n",
    "                metrics=['accuracy'])\n",
    "  \n",
    "  return model\n",
    "\n",
    "model = my_model()\n",
    "print(model.summary())"
   ]
  },
  {
   "cell_type": "code",
   "execution_count": 15,
   "metadata": {
    "colab": {
     "base_uri": "https://localhost:8080/",
     "height": 816
    },
    "colab_type": "code",
    "id": "aXa483QOlkQy",
    "outputId": "daab1b7e-9efc-46f0-8584-ba0c3c0fb311"
   },
   "outputs": [
    {
     "name": "stdout",
     "output_type": "stream",
     "text": [
      "Train on 34092 samples, validate on 1795 samples\n",
      "Epoch 1/15\n",
      "34092/34092 [==============================] - 25s 727us/step - loss: 0.4029 - acc: 0.8552 - val_loss: 0.3883 - val_acc: 0.8571\n",
      "Epoch 2/15\n",
      "34092/34092 [==============================] - 23s 675us/step - loss: 0.3885 - acc: 0.8573 - val_loss: 0.3630 - val_acc: 0.8608\n",
      "Epoch 3/15\n",
      "34092/34092 [==============================] - 23s 674us/step - loss: 0.3402 - acc: 0.8703 - val_loss: 0.3000 - val_acc: 0.8835\n",
      "Epoch 4/15\n",
      "34092/34092 [==============================] - 23s 675us/step - loss: 0.2991 - acc: 0.8820 - val_loss: 0.2751 - val_acc: 0.8891\n",
      "Epoch 5/15\n",
      "34092/34092 [==============================] - 23s 676us/step - loss: 0.2758 - acc: 0.8892 - val_loss: 0.2575 - val_acc: 0.8978\n",
      "Epoch 6/15\n",
      "34092/34092 [==============================] - 23s 676us/step - loss: 0.2566 - acc: 0.8955 - val_loss: 0.2561 - val_acc: 0.8967\n",
      "\n",
      "Epoch 00006: ReduceLROnPlateau reducing learning rate to 0.00010000000474974513.\n",
      "Epoch 7/15\n",
      "34092/34092 [==============================] - 23s 676us/step - loss: 0.2239 - acc: 0.9083 - val_loss: 0.2440 - val_acc: 0.9028\n",
      "Epoch 8/15\n",
      "34092/34092 [==============================] - 23s 677us/step - loss: 0.2145 - acc: 0.9116 - val_loss: 0.2427 - val_acc: 0.9023\n",
      "\n",
      "Epoch 00008: ReduceLROnPlateau reducing learning rate to 1.0000000474974514e-05.\n",
      "Epoch 9/15\n",
      "34092/34092 [==============================] - 23s 674us/step - loss: 0.2065 - acc: 0.9159 - val_loss: 0.2433 - val_acc: 0.9035\n",
      "Epoch 10/15\n",
      "34092/34092 [==============================] - 23s 675us/step - loss: 0.2056 - acc: 0.9157 - val_loss: 0.2438 - val_acc: 0.9035\n",
      "\n",
      "Epoch 00010: ReduceLROnPlateau reducing learning rate to 1.0000000656873453e-06.\n",
      "Epoch 11/15\n",
      "34092/34092 [==============================] - 23s 676us/step - loss: 0.2042 - acc: 0.9164 - val_loss: 0.2440 - val_acc: 0.9031\n",
      "\n",
      "Epoch 00011: ReduceLROnPlateau reducing learning rate to 1.0000001111620805e-07.\n",
      "Epoch 12/15\n",
      "34092/34092 [==============================] - 23s 678us/step - loss: 0.2046 - acc: 0.9161 - val_loss: 0.2440 - val_acc: 0.9031\n",
      "\n",
      "Epoch 00012: ReduceLROnPlateau reducing learning rate to 1.000000082740371e-08.\n",
      "Epoch 13/15\n",
      "34092/34092 [==============================] - 23s 677us/step - loss: 0.2044 - acc: 0.9160 - val_loss: 0.2440 - val_acc: 0.9031\n",
      "\n",
      "Epoch 00013: ReduceLROnPlateau reducing learning rate to 1.000000082740371e-09.\n",
      "Epoch 14/15\n",
      "34092/34092 [==============================] - 23s 677us/step - loss: 0.2044 - acc: 0.9164 - val_loss: 0.2440 - val_acc: 0.9031\n",
      "\n",
      "Epoch 00014: ReduceLROnPlateau reducing learning rate to 1.000000082740371e-10.\n",
      "Epoch 15/15\n",
      "34092/34092 [==============================] - 23s 678us/step - loss: 0.2045 - acc: 0.9161 - val_loss: 0.2440 - val_acc: 0.9031\n",
      "\n",
      "Epoch 00015: ReduceLROnPlateau reducing learning rate to 1.000000082740371e-11.\n"
     ]
    }
   ],
   "source": [
    "K.tensorflow_backend.clear_session() # destroys the current graph and builds a new one\n",
    "model=my_model()\n",
    "K.set_value(model.optimizer.lr,1e-3)\n",
    "\n",
    "h=model.fit(x=X_train,     \n",
    "            y=y_train, \n",
    "            batch_size=64, \n",
    "            epochs=15, \n",
    "            verbose=1, \n",
    "            validation_data=(X_test,y_test),\n",
    "            shuffle=True,\n",
    "            callbacks=[lr_reduce],\n",
    "           )\n",
    "model.save_weights(\"model.h5\") # Saving weights of trained neural networks in 'model.h5' file"
   ]
  },
  {
   "cell_type": "code",
   "execution_count": 0,
   "metadata": {
    "colab": {},
    "colab_type": "code",
    "id": "HedRYYR3UiRP"
   },
   "outputs": [],
   "source": [
    "# Saving model in 'model.json' file\n",
    "\n",
    "model_json = model.to_json()\n",
    "with open(\"model.json\", \"w\") as json_file:\n",
    "    json_file.write(model_json)"
   ]
  },
  {
   "cell_type": "code",
   "execution_count": 17,
   "metadata": {
    "colab": {
     "base_uri": "https://localhost:8080/",
     "height": 389
    },
    "colab_type": "code",
    "id": "ZV4owLb2WOSr",
    "outputId": "f2585800-33ed-4bb9-bca0-4fed4ac0ba77"
   },
   "outputs": [
    {
     "name": "stdout",
     "output_type": "stream",
     "text": [
      "(1, 1, 48, 48)\n"
     ]
    },
    {
     "data": {
      "image/png": "[encoded data removed]",
      "text/plain": [
       "<matplotlib.figure.Figure at 0x7f8e0db5a908>"
      ]
     },
     "metadata": {
      "tags": []
     },
     "output_type": "display_data"
    }
   ],
   "source": [
    "objects = ('angry', 'disgust', 'fear', 'happy', 'sad', 'surprise', 'neutral') # Types of Labels\n",
    "\n",
    "# Preparing input for getting prediction\n",
    "y = img[9999].split()\n",
    "y = np.reshape(y,(1,1,48,48))\n",
    "print(y.shape)\n",
    "y = y.astype(int)\n",
    "x = y/255\n",
    "\n",
    "# Predicting output\n",
    "custom = model.predict(x)\n",
    "\n",
    "x = x.reshape([48, 48]); # Reshaping image to print\n",
    "\n",
    "plt.imshow(x, cmap = 'gray')\n",
    "plt.title(objects[np.argmax(custom)],fontsize=25) # Printing predicted emotion in image title\n",
    "plt.show()"
   ]
  },
  {
   "cell_type": "code",
   "execution_count": 0,
   "metadata": {
    "colab": {},
    "colab_type": "code",
    "id": "r_witeSQW55B"
   },
   "outputs": [],
   "source": [
    "# Downloading model and saved weights\n",
    "\n",
    "from google.colab import files\n",
    "files.download('model.json')\n",
    "files.download('model.h5')"
   ]
  }
 ],
 "metadata": {
  "accelerator": "GPU",
  "colab": {
   "collapsed_sections": [],
   "name": "Facial_expression.ipynb",
   "provenance": [],
   "version": "0.3.2"
  },
  "kernelspec": {
   "display_name": "Python 3",
   "language": "python",
   "name": "python3"
  },
  "language_info": {
   "codemirror_mode": {
    "name": "ipython",
    "version": 3
   },
   "file_extension": ".py",
   "mimetype": "text/x-python",
   "name": "python",
   "nbconvert_exporter": "python",
   "pygments_lexer": "ipython3",
   "version": "3.5.5"
  }
 },
 "nbformat": 4,
 "nbformat_minor": 1
}
