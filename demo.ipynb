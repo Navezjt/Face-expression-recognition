{
 "cells": [
  {
   "cell_type": "code",
   "execution_count": 1,
   "metadata": {},
   "outputs": [
    {
     "name": "stderr",
     "output_type": "stream",
     "text": [
      "Using TensorFlow backend.\n"
     ]
    }
   ],
   "source": [
    "import cv2\n",
    "import time\n",
    "import numpy as np\n",
    "from keras.models import load_model"
   ]
  },
  {
   "cell_type": "code",
   "execution_count": 2,
   "metadata": {},
   "outputs": [],
   "source": [
    "model = load_model('weights/saved_model.h5')    # load trained model\n",
    "face_classifier = cv2.CascadeClassifier('weights/haarcascade_frontalface_default.xml')    # load haar cascade\n",
    "expressions = ['angry', 'disgust', 'fear', 'happy', 'sad', 'surprise', 'neutral']    # facial expression labels"
   ]
  },
  {
   "cell_type": "code",
   "execution_count": 3,
   "metadata": {},
   "outputs": [],
   "source": [
    "def predict(img):\n",
    "    '''Detects face, predicts facial expression\n",
    "    and returns modified image.'''\n",
    "    \n",
    "    gray_img = cv2.cvtColor(img, cv2.COLOR_BGR2GRAY)\n",
    "    face_coord = face_classifier.detectMultiScale(gray_img, 1.3, 5) \n",
    "    \n",
    "    height = img.shape[0]\n",
    "    if len(face_coord) > 0:\n",
    "        for i in range(len(face_coord)):\n",
    "            x,y,w,h = face_coord[i]\n",
    "            cv2.rectangle(img, (x,y), (x+w,y+h), (225,0,0), 2)\n",
    "\n",
    "            face_img = gray_img[y:y+h, x:x+w]\n",
    "            face_img = cv2.resize(face_img, (48, 48))\n",
    "            face_img = face_img.reshape(1,48,48,1)\n",
    "            face_img = face_img/255\n",
    "\n",
    "            pred = expressions[np.argmax(model.predict(face_img))]\n",
    "            cv2.putText(img, pred, (x,y-int(height/60)), cv2.FONT_HERSHEY_SIMPLEX, 2, (53, 67, 255), 2, 2)        \n",
    "    else:\n",
    "        print('No face found!')\n",
    "    \n",
    "    return img"
   ]
  },
  {
   "cell_type": "code",
   "execution_count": 4,
   "metadata": {},
   "outputs": [
    {
     "name": "stdout",
     "output_type": "stream",
     "text": [
      "Output image saved to data/outputs/output.jpg\n"
     ]
    },
    {
     "data": {
      "text/plain": [
       "True"
      ]
     },
     "execution_count": 4,
     "metadata": {},
     "output_type": "execute_result"
    }
   ],
   "source": [
    "# For image input\n",
    "\n",
    "inp_path = 'data/inputs/3.jpg'\n",
    "out_path = 'data/outputs/output.jpg'\n",
    "\n",
    "img = cv2.imread(inp_path)\n",
    "img = predict(img)\n",
    "\n",
    "print('Output image saved to', out_path)\n",
    "cv2.imshow('img', img)\n",
    "cv2.waitKey(0)\n",
    "cv2.imwrite(out_path, img)"
   ]
  },
  {
   "cell_type": "code",
   "execution_count": 5,
   "metadata": {},
   "outputs": [
    {
     "name": "stdout",
     "output_type": "stream",
     "text": [
      "Output video saved to data/outputs/output.avi\n"
     ]
    }
   ],
   "source": [
    "# For video input\n",
    "\n",
    "inp_path = 'data/inputs/vid0.mp4'\n",
    "out_path = 'data/outputs/output.avi'\n",
    "\n",
    "vid = cv2.VideoCapture(inp_path)\n",
    "width, height = int(vid.get(3)), int(vid.get(4))  \n",
    "out = cv2.VideoWriter(out_path, cv2.VideoWriter_fourcc(*'MJPG'), 30, (width, height)) \n",
    "\n",
    "frame_count = 0\n",
    "time_sum = 0\n",
    "while(vid.isOpened()): \n",
    "    ret, frame = vid.read()\n",
    "    frame_count += 1\n",
    "    \n",
    "    if ret == True:\n",
    "        start = time.time()\n",
    "        predict(frame)\n",
    "        time_sum += time.time() - start\n",
    "        fps = round(frame_count/time_sum, 2)\n",
    "        cv2.putText(frame, 'Avg fps - '+str(fps), (20, 45), cv2.FONT_HERSHEY_SIMPLEX, 1, (255,255,255), 2, 2)\n",
    "        \n",
    "        out.write(frame)\n",
    "        cv2.imshow('frame', frame) \n",
    "        if cv2.waitKey(1) == 27: \n",
    "            break\n",
    "    else:  \n",
    "        break\n",
    "\n",
    "print('Output video saved to', out_path)\n",
    "out.release()\n",
    "cv2.destroyAllWindows()"
   ]
  },
  {
   "cell_type": "code",
   "execution_count": null,
   "metadata": {},
   "outputs": [],
   "source": []
  }
 ],
 "metadata": {
  "kernelspec": {
   "display_name": "Python [conda env:gpu]",
   "language": "python",
   "name": "conda-env-gpu-py"
  },
  "language_info": {
   "codemirror_mode": {
    "name": "ipython",
    "version": 3
   },
   "file_extension": ".py",
   "mimetype": "text/x-python",
   "name": "python",
   "nbconvert_exporter": "python",
   "pygments_lexer": "ipython3",
   "version": "3.7.7"
  }
 },
 "nbformat": 4,
 "nbformat_minor": 4
}
